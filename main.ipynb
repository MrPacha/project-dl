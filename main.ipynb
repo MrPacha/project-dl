{
 "cells": [
  {
   "cell_type": "markdown",
   "id": "cf9424c9-66e4-44d0-bd55-e212d1686332",
   "metadata": {},
   "source": [
    "# Variational Autoencoder Galaxy generator"
   ]
  },
  {
   "cell_type": "markdown",
   "id": "00e10d21-7ca1-46f5-a176-3d5a923cae82",
   "metadata": {
    "tags": []
   },
   "source": [
    "## Import libraries"
   ]
  },
  {
   "cell_type": "code",
   "execution_count": 1,
   "id": "90d9d722-3953-44f8-832b-87d93680d76e",
   "metadata": {},
   "outputs": [],
   "source": [
    "from custom_utils import R"
   ]
  },
  {
   "cell_type": "markdown",
   "id": "e10e0a1f-055b-4575-a53a-2550e20a6933",
   "metadata": {},
   "source": [
    "## Download data"
   ]
  },
  {
   "cell_type": "code",
   "execution_count": 3,
   "id": "657feb4c-3524-4a30-a377-cd1f2587270d",
   "metadata": {},
   "outputs": [
    {
     "name": "stdout",
     "output_type": "stream",
     "text": [
      "Downloading archive\n"
     ]
    },
    {
     "name": "stderr",
     "output_type": "stream",
     "text": [
      "100% |#########################################################################|\n",
      "Extracting : 100%|████████████████████| 243438/243438 [00:56<00:00, 4277.46it/s]\n"
     ]
    }
   ],
   "source": [
    "DataURL='https://tinyurl.com/mr2yc5nx'\n",
    "\n",
    "RetrieveData(DataURL)"
   ]
  },
  {
   "cell_type": "code",
   "execution_count": null,
   "id": "b46ae538-daa4-4d67-b880-6fbb0f4d0dce",
   "metadata": {},
   "outputs": [],
   "source": []
  }
 ],
 "metadata": {
  "kernelspec": {
   "display_name": "Python [conda env:IML]",
   "language": "python",
   "name": "conda-env-IML-py"
  },
  "language_info": {
   "codemirror_mode": {
    "name": "ipython",
    "version": 3
   },
   "file_extension": ".py",
   "mimetype": "text/x-python",
   "name": "python",
   "nbconvert_exporter": "python",
   "pygments_lexer": "ipython3",
   "version": "3.10.6"
  }
 },
 "nbformat": 4,
 "nbformat_minor": 5
}
