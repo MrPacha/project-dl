{
 "cells": [
  {
   "cell_type": "markdown",
   "id": "cf9424c9-66e4-44d0-bd55-e212d1686332",
   "metadata": {},
   "source": [
    "# Variational Autoencoder Galaxy generator"
   ]
  },
  {
   "cell_type": "code",
   "execution_count": 1,
   "id": "7c67bf6f-4b15-47c1-81ee-7e4f0f48c553",
   "metadata": {},
   "outputs": [
    {
     "name": "stdout",
     "output_type": "stream",
     "text": [
      "6\n"
     ]
    }
   ],
   "source": [
    "x=2\n",
    "y=4\n",
    "print(x+y)"
   ]
  },
  {
   "cell_type": "code",
   "execution_count": null,
   "id": "e1bf20e0-5a1f-4176-ac5b-367028d7d4e7",
   "metadata": {},
   "outputs": [],
   "source": []
  }
 ],
 "metadata": {
  "kernelspec": {
   "display_name": "Python [conda env:IML]",
   "language": "python",
   "name": "conda-env-IML-py"
  },
  "language_info": {
   "codemirror_mode": {
    "name": "ipython",
    "version": 3
   },
   "file_extension": ".py",
   "mimetype": "text/x-python",
   "name": "python",
   "nbconvert_exporter": "python",
   "pygments_lexer": "ipython3",
   "version": "3.10.6"
  }
 },
 "nbformat": 4,
 "nbformat_minor": 5
}
