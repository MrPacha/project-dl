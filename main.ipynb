{
 "cells": [
  {
   "cell_type": "markdown",
   "id": "cf9424c9-66e4-44d0-bd55-e212d1686332",
   "metadata": {},
   "source": [
    "# Variational Autoencoder Galaxy generator"
   ]
  },
  {
   "cell_type": "markdown",
   "id": "00e10d21-7ca1-46f5-a176-3d5a923cae82",
   "metadata": {
    "tags": []
   },
   "source": [
    "## Import libraries"
   ]
  },
  {
   "cell_type": "code",
   "execution_count": 79,
   "id": "90d9d722-3953-44f8-832b-87d93680d76e",
   "metadata": {},
   "outputs": [],
   "source": [
    "import os\n",
    "from glob import glob\n",
    "from utils.custom_utils import RetrieveData\n",
    "import pandas as pd\n",
    "\n",
    "from PIL import Image\n",
    "import matplotlib.pyplot as plt\n",
    "\n",
    "import torch\n",
    "import torch.nn as nn\n",
    "import torch.optim as optim\n",
    "from torch.utils.data import Dataset"
   ]
  },
  {
   "cell_type": "markdown",
   "id": "e10e0a1f-055b-4575-a53a-2550e20a6933",
   "metadata": {},
   "source": [
    "## Download data"
   ]
  },
  {
   "cell_type": "code",
   "execution_count": 47,
   "id": "657feb4c-3524-4a30-a377-cd1f2587270d",
   "metadata": {},
   "outputs": [],
   "source": [
    "DataURL='https://tinyurl.com/mr2yc5nx'\n",
    "\n",
    "RetrieveData(DataURL)"
   ]
  },
  {
   "cell_type": "markdown",
   "id": "5d7ed245-837a-4a66-9547-dab4691b440d",
   "metadata": {},
   "source": [
    "## dataloader"
   ]
  },
  {
   "cell_type": "code",
   "execution_count": 70,
   "id": "039897b5-4ead-4b0a-843d-ff7424ba0e20",
   "metadata": {},
   "outputs": [],
   "source": [
    "image_path='./data/images_gz2/images'\n",
    "images=glob(os.path.join(image_path,'*.jpg'))"
   ]
  },
  {
   "cell_type": "code",
   "execution_count": null,
   "id": "c85ffa5e-833b-4ba9-8bd7-024ab0cd702f",
   "metadata": {},
   "outputs": [],
   "source": [
    "class GalaxyZoo2Dataset(Dataset):\n",
    "    def __init__(self, annotations_file, img_dir, transform=None, target_transform=None):\n",
    "        self.img_labels = pd.read_csv(annotations_file)\n",
    "        self.img_dir = img_dir\n",
    "        self.transform = transform\n",
    "        self.target_transform = target_transform\n",
    "\n",
    "    def __len__(self):\n",
    "        return len(self.img_labels)\n",
    "\n",
    "    def __getitem__(self, idx):\n",
    "        img_path = os.path.join(self.img_dir, self.img_labels.iloc[idx, 0])\n",
    "        image = read_image(img_path)\n",
    "        label = self.img_labels.iloc[idx, 1]\n",
    "        if self.transform:\n",
    "            image = self.transform(image)\n",
    "        if self.target_transform:\n",
    "            label = self.target_transform(label)\n",
    "        return image, label"
   ]
  }
 ],
 "metadata": {
  "kernelspec": {
   "display_name": "Python [conda env:IML]",
   "language": "python",
   "name": "conda-env-IML-py"
  },
  "language_info": {
   "codemirror_mode": {
    "name": "ipython",
    "version": 3
   },
   "file_extension": ".py",
   "mimetype": "text/x-python",
   "name": "python",
   "nbconvert_exporter": "python",
   "pygments_lexer": "ipython3",
   "version": "3.10.6"
  }
 },
 "nbformat": 4,
 "nbformat_minor": 5
}
